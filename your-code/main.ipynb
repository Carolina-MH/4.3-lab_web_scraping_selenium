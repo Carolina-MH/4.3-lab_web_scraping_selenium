{
 "cells": [
  {
   "cell_type": "markdown",
   "metadata": {},
   "source": [
    "# Web Scraping Lab\n",
    "\n",
    "You will find in this notebook some scrapy exercises to practise your scraping skills.\n",
    "\n",
    "**Tips:**\n",
    "\n",
    "- Check the response status code for each request to ensure you have obtained the intended contennt.\n",
    "- Print the response text in each request to understand the kind of info you are getting and its format.\n",
    "- Check for patterns in the response text to extract the data/info requested in each question.\n",
    "- Visit each url and take a look at its source through Chrome DevTools. You'll need to identify the html tags, special class names etc. used for the html content you are expected to extract."
   ]
  },
  {
   "cell_type": "markdown",
   "metadata": {},
   "source": [
    "- [Selenium Doc](https://www.selenium.dev/documentation/)\n",
    "- [Requests library](http://docs.python-requests.org/en/master/#the-user-guide) documentation \n",
    "- [Urllib](https://docs.python.org/3/library/urllib.html#module-urllib)\n",
    "- [re lib](https://docs.python.org/3/library/re.html)\n",
    "- [lxml lib](https://lxml.de/)\n",
    "- [Scrapy](https://scrapy.org/)\n",
    "- [List of HTTP status codes](https://en.wikipedia.org/wiki/List_of_HTTP_status_codes)\n",
    "- [HTML basics](http://www.simplehtmlguide.com/cheatsheet.php)\n",
    "- [CSS basics](https://www.cssbasics.com/#page_start)"
   ]
  },
  {
   "cell_type": "markdown",
   "metadata": {},
   "source": [
    "#### Below are the libraries and modules you may need. `Selenium` and `pandas` are imported for you."
   ]
  },
  {
   "cell_type": "code",
   "execution_count": 10,
   "metadata": {},
   "outputs": [],
   "source": [
    "import pandas as pd\n",
    "from selenium.webdriver.chrome.options import Options\n",
    "from webdriver_manager.chrome import ChromeDriverManager"
   ]
  },
  {
   "cell_type": "markdown",
   "metadata": {},
   "source": [
    "#### Enable the options you may need. In the next cell you have an example of them but you can choose to use them or not."
   ]
  },
  {
   "cell_type": "code",
   "execution_count": 11,
   "metadata": {},
   "outputs": [],
   "source": [
    "#driver configuration\n",
    "opciones=Options()\n",
    "\n",
    "opciones.add_experimental_option('excludeSwitches', ['enable-automation'])\n",
    "opciones.add_experimental_option('useAutomationExtension', False)\n",
    "opciones.headless=False    # si True, no aperece la ventana (headless=no visible)\n",
    "opciones.add_argument('--start-maximized')         # comienza maximizado\n",
    "#opciones.add_argument('user-data-dir=selenium')    # mantiene las cookies\n",
    "#opciones.add_extension('driver_folder/adblock.crx')       # adblocker\n",
    "opciones.add_argument('--incognito')"
   ]
  },
  {
   "cell_type": "code",
   "execution_count": 22,
   "metadata": {},
   "outputs": [],
   "source": [
    "from selenium import webdriver\n",
    "from selenium.webdriver.common.by import By\n",
    "\n",
    "PATH = 'drive/chromedriver' \n",
    "driver = webdriver.Chrome()\n",
    "driver.get('https://www.google.es')"
   ]
  },
  {
   "cell_type": "markdown",
   "metadata": {},
   "source": [
    "#### Download, parse, and print the content from the Trending Developers page from GitHub:"
   ]
  },
  {
   "cell_type": "markdown",
   "metadata": {},
   "source": [
    "#### Display the names of the trending developers retrieved in the previous step.\n",
    "\n",
    "Your output should be a Python list of developer names. Each name should not contain any html tag.\n",
    "\n",
    "**Instructions:**\n",
    "\n",
    "1. Find out the html tag and class names used for the developer names.\n",
    "\n",
    "1. Use string manipulation techniques to replace whitespaces and linebreaks (i.e. `\\n`) in the *text* of each html element. Use a list to store the clean names.\n",
    "\n",
    "1. Print the list of names.\n",
    "\n",
    "Your output should look like below:\n",
    "\n",
    "```\n",
    "['trimstray (@trimstray)',\n",
    " 'joewalnes (JoeWalnes)',\n",
    " 'charlax (Charles-AxelDein)',\n",
    " 'ForrestKnight (ForrestKnight)',\n",
    " 'revery-ui (revery-ui)',\n",
    " 'alibaba (Alibaba)',\n",
    " 'Microsoft (Microsoft)',\n",
    " 'github (GitHub)',\n",
    " 'facebook (Facebook)',\n",
    " 'boazsegev (Bo)',\n",
    " 'google (Google)',\n",
    " 'cloudfetch',\n",
    " 'sindresorhus (SindreSorhus)',\n",
    " 'tensorflow',\n",
    " 'apache (TheApacheSoftwareFoundation)',\n",
    " 'DevonCrawford (DevonCrawford)',\n",
    " 'ARMmbed (ArmMbed)',\n",
    " 'vuejs (vuejs)',\n",
    " 'fastai (fast.ai)',\n",
    " 'QiShaoXuan (Qi)',\n",
    " 'joelparkerhenderson (JoelParkerHenderson)',\n",
    " 'torvalds (LinusTorvalds)',\n",
    " 'CyC2018',\n",
    " 'komeiji-satori (神楽坂覚々)',\n",
    " 'script-8']\n",
    " ```"
   ]
  },
  {
   "cell_type": "code",
   "execution_count": 23,
   "metadata": {},
   "outputs": [],
   "source": [
    "# This is the url you will scrape in this exercise\n",
    "url = 'https://github.com/trending/developers'\n",
    "driver=webdriver.Chrome()\n",
    "driver.get(url)"
   ]
  },
  {
   "cell_type": "code",
   "execution_count": 24,
   "metadata": {},
   "outputs": [],
   "source": [
    "a = driver.find_elements(By.XPATH,'//div[@class=\"col-sm-8 d-md-flex\"]')"
   ]
  },
  {
   "cell_type": "code",
   "execution_count": 25,
   "metadata": {},
   "outputs": [
    {
     "name": "stdout",
     "output_type": "stream",
     "text": [
      "['Ismail Pelaseyed', 'homanp']\n",
      "['Chris Banes', 'chrisbanes']\n",
      "['Travis Cline', 'tmc']\n",
      "['Xiaoyu Zhang', 'BBuf']\n",
      "['Stefan Prodan', 'stefanprodan']\n",
      "['Pedro Cattori', 'pcattori']\n",
      "['lllyasviel', 'POPULAR REPO']\n",
      "['Arvin Xu', 'arvinxx']\n",
      "['Howard Wu', 'howardwu']\n",
      "['Shahed Nasser', 'shahednasser']\n",
      "['Kailash Nadh', 'knadh']\n",
      "['Mattt', 'mattt']\n",
      "['kixelated', 'POPULAR REPO']\n",
      "['Brad Fitzpatrick', 'bradfitz']\n",
      "['Miško Hevery', 'mhevery']\n",
      "['Andrew Lock', 'andrewlock']\n",
      "['Brian Smith', 'briansmith']\n",
      "['Numan', 'numandev1']\n",
      "['Fons van der Plas', 'fonsp']\n",
      "['Leonid Bugaev', 'buger']\n",
      "['wū yāng', 'uyarn']\n",
      "['Steven Nguyen', 'stnguyen90']\n",
      "['Argo Zhang', 'ArgoZhang']\n",
      "['Josh Stein', 'jcstein']\n",
      "['Mike McNeil', 'mikermcneil']\n"
     ]
    }
   ],
   "source": [
    "for e in a:\n",
    "    print(e.text.split(\"\\n\")[:2])"
   ]
  },
  {
   "cell_type": "markdown",
   "metadata": {},
   "source": [
    "#### Display the trending Python repositories in GitHub\n",
    "\n",
    "The steps to solve this problem is similar to the previous one except that you need to find out the repository names instead of developer names."
   ]
  },
  {
   "cell_type": "code",
   "execution_count": 35,
   "metadata": {},
   "outputs": [],
   "source": [
    "# This is the url you will scrape in this exercise\n",
    "url2 = 'https://github.com/trending/python?since=daily'\n",
    "driver.get(url2) "
   ]
  },
  {
   "cell_type": "code",
   "execution_count": 40,
   "metadata": {},
   "outputs": [
    {
     "data": {
      "text/plain": [
       "25"
      ]
     },
     "execution_count": 40,
     "metadata": {},
     "output_type": "execute_result"
    }
   ],
   "source": [
    "#opción 1\n",
    "trending = driver.find_elements(By.XPATH,'//h2[@class=\"h3 lh-condensed\"]')\n",
    "len(trending)"
   ]
  },
  {
   "cell_type": "code",
   "execution_count": 47,
   "metadata": {},
   "outputs": [
    {
     "name": "stdout",
     "output_type": "stream",
     "text": [
      "swisskyrepo / PayloadsAllTheThings\n",
      "THUDM / ChatGLM3\n",
      "PaddlePaddle / PaddleOCR\n",
      "langchain-ai / langchain\n",
      "dataelement / bisheng\n",
      "Azure / MS-AMP\n",
      "xxlong0 / Wonder3D\n",
      "yunjey / pytorch-tutorial\n",
      "facebookresearch / llama\n",
      "localstack / localstack\n",
      "OpenBMB / ChatDev\n",
      "ray-project / ray\n",
      "CycodeLabs / raven\n",
      "ageitgey / face_recognition\n",
      "iam-veeramalla / aws-devops-zero-to-hero\n",
      "openai / whisper\n",
      "sqlfluff / sqlfluff\n",
      "imartinez / privateGPT\n",
      "reflex-dev / reflex\n",
      "donnemartin / system-design-primer\n",
      "lm-sys / FastChat\n",
      "togethercomputer / RedPajama-Data\n",
      "SkyworkAI / Skywork\n",
      "microsoft / qlib\n",
      "pathwaycom / llm-app\n"
     ]
    }
   ],
   "source": [
    "for e in trending:\n",
    "    print(e.text)"
   ]
  },
  {
   "cell_type": "code",
   "execution_count": 45,
   "metadata": {},
   "outputs": [
    {
     "data": {
      "text/plain": [
       "25"
      ]
     },
     "execution_count": 45,
     "metadata": {},
     "output_type": "execute_result"
    }
   ],
   "source": [
    "#opción 2\n",
    "trending2 = driver.find_elements(By.CLASS_NAME,'h3.lh-condensed')\n",
    "len(trending2)"
   ]
  },
  {
   "cell_type": "code",
   "execution_count": 46,
   "metadata": {
    "scrolled": true
   },
   "outputs": [
    {
     "name": "stdout",
     "output_type": "stream",
     "text": [
      "swisskyrepo / PayloadsAllTheThings\n",
      "THUDM / ChatGLM3\n",
      "PaddlePaddle / PaddleOCR\n",
      "langchain-ai / langchain\n",
      "dataelement / bisheng\n",
      "Azure / MS-AMP\n",
      "xxlong0 / Wonder3D\n",
      "yunjey / pytorch-tutorial\n",
      "facebookresearch / llama\n",
      "localstack / localstack\n",
      "OpenBMB / ChatDev\n",
      "ray-project / ray\n",
      "CycodeLabs / raven\n",
      "ageitgey / face_recognition\n",
      "iam-veeramalla / aws-devops-zero-to-hero\n",
      "openai / whisper\n",
      "sqlfluff / sqlfluff\n",
      "imartinez / privateGPT\n",
      "reflex-dev / reflex\n",
      "donnemartin / system-design-primer\n",
      "lm-sys / FastChat\n",
      "togethercomputer / RedPajama-Data\n",
      "SkyworkAI / Skywork\n",
      "microsoft / qlib\n",
      "pathwaycom / llm-app\n"
     ]
    }
   ],
   "source": [
    "for e in trending2:\n",
    "    print(e.text)"
   ]
  },
  {
   "cell_type": "code",
   "execution_count": null,
   "metadata": {},
   "outputs": [],
   "source": [
    "#opción 3\n",
    "Preguntar por PATH"
   ]
  },
  {
   "cell_type": "markdown",
   "metadata": {},
   "source": [
    "#### Display all the image links from Walt Disney wikipedia page"
   ]
  },
  {
   "cell_type": "code",
   "execution_count": 48,
   "metadata": {},
   "outputs": [],
   "source": [
    "# This is the url you will scrape in this exercise\n",
    "url3 = 'https://en.wikipedia.org/wiki/Walt_Disney'\n",
    "driver.get(url3)\n"
   ]
  },
  {
   "cell_type": "code",
   "execution_count": 64,
   "metadata": {
    "scrolled": true
   },
   "outputs": [
    {
     "data": {
      "text/plain": [
       "36"
      ]
     },
     "execution_count": 64,
     "metadata": {},
     "output_type": "execute_result"
    }
   ],
   "source": [
    "disney = driver.find_elements(By.TAG_NAME, 'img')\n",
    "len(disney)"
   ]
  },
  {
   "cell_type": "code",
   "execution_count": 71,
   "metadata": {},
   "outputs": [
    {
     "data": {
      "text/plain": [
       "['https://en.wikipedia.org/static/images/icons/wikipedia.png',\n",
       " 'https://en.wikipedia.org/static/images/mobile/copyright/wikipedia-wordmark-en.svg',\n",
       " 'https://en.wikipedia.org/static/images/mobile/copyright/wikipedia-tagline-en.svg',\n",
       " 'https://upload.wikimedia.org/wikipedia/en/thumb/e/e7/Cscr-featured.svg/20px-Cscr-featured.svg.png',\n",
       " 'https://upload.wikimedia.org/wikipedia/en/thumb/8/8c/Extended-protection-shackle.svg/20px-Extended-protection-shackle.svg.png',\n",
       " 'https://upload.wikimedia.org/wikipedia/commons/thumb/d/df/Walt_Disney_1946.JPG/220px-Walt_Disney_1946.JPG',\n",
       " 'https://upload.wikimedia.org/wikipedia/commons/thumb/8/87/Walt_Disney_1942_signature.svg/150px-Walt_Disney_1942_signature.svg.png',\n",
       " 'https://upload.wikimedia.org/wikipedia/commons/thumb/3/3a/Walt_Disney_Birthplace_Exterior_Hermosa_Chicago_Illinois.jpg/220px-Walt_Disney_Birthplace_Exterior_Hermosa_Chicago_Illinois.jpg',\n",
       " 'https://upload.wikimedia.org/wikipedia/commons/thumb/c/c4/Walt_Disney_envelope_ca._1921.jpg/220px-Walt_Disney_envelope_ca._1921.jpg',\n",
       " 'https://upload.wikimedia.org/wikipedia/en/thumb/4/4e/Steamboat-willie.jpg/220px-Steamboat-willie.jpg',\n",
       " 'https://upload.wikimedia.org/wikipedia/commons/thumb/c/cd/Walt_Disney_Snow_white_1937_trailer_screenshot_%2813%29.jpg/220px-Walt_Disney_Snow_white_1937_trailer_screenshot_%2813%29.jpg',\n",
       " 'https://upload.wikimedia.org/wikipedia/commons/thumb/1/15/Disney_drawing_goofy.jpg/170px-Disney_drawing_goofy.jpg',\n",
       " 'https://upload.wikimedia.org/wikipedia/commons/thumb/8/8c/WaltDisneyplansDisneylandDec1954.jpg/220px-WaltDisneyplansDisneylandDec1954.jpg',\n",
       " 'https://upload.wikimedia.org/wikipedia/commons/thumb/f/ff/Walt_disney_portrait_right.jpg/170px-Walt_disney_portrait_right.jpg',\n",
       " 'https://upload.wikimedia.org/wikipedia/commons/thumb/1/1a/Walt_Disney_Grave.JPG/170px-Walt_Disney_Grave.JPG',\n",
       " 'https://upload.wikimedia.org/wikipedia/commons/thumb/1/1b/Nuvola_apps_kaboodle.svg/16px-Nuvola_apps_kaboodle.svg.png',\n",
       " 'https://upload.wikimedia.org/wikipedia/commons/thumb/1/13/DisneySchiphol1951.jpg/220px-DisneySchiphol1951.jpg',\n",
       " 'https://upload.wikimedia.org/wikipedia/commons/thumb/6/6c/Disney1968.jpg/170px-Disney1968.jpg',\n",
       " 'https://upload.wikimedia.org/wikipedia/commons/thumb/b/b0/Disney_Oscar_1953_%28cropped%29.jpg/170px-Disney_Oscar_1953_%28cropped%29.jpg',\n",
       " 'https://upload.wikimedia.org/wikipedia/en/thumb/4/4a/Commons-logo.svg/30px-Commons-logo.svg.png',\n",
       " 'https://upload.wikimedia.org/wikipedia/commons/thumb/4/4c/Wikisource-logo.svg/38px-Wikisource-logo.svg.png',\n",
       " 'https://upload.wikimedia.org/wikipedia/commons/thumb/f/fa/Wikiquote-logo.svg/34px-Wikiquote-logo.svg.png',\n",
       " 'https://upload.wikimedia.org/wikipedia/en/thumb/8/8a/OOjs_UI_icon_edit-ltr-progressive.svg/10px-OOjs_UI_icon_edit-ltr-progressive.svg.png',\n",
       " 'https://upload.wikimedia.org/wikipedia/en/thumb/8/8a/OOjs_UI_icon_edit-ltr-progressive.svg/10px-OOjs_UI_icon_edit-ltr-progressive.svg.png',\n",
       " 'https://upload.wikimedia.org/wikipedia/en/thumb/9/96/Symbol_category_class.svg/16px-Symbol_category_class.svg.png',\n",
       " 'https://upload.wikimedia.org/wikipedia/commons/thumb/e/e3/Disneyland_Resort_logo.svg/135px-Disneyland_Resort_logo.svg.png',\n",
       " 'https://upload.wikimedia.org/wikipedia/commons/thumb/d/da/Animation_disc.svg/20px-Animation_disc.svg.png',\n",
       " 'https://upload.wikimedia.org/wikipedia/en/thumb/6/69/P_vip.svg/19px-P_vip.svg.png',\n",
       " 'https://upload.wikimedia.org/wikipedia/commons/thumb/1/1a/Magic_Kingdom_castle.jpg/15px-Magic_Kingdom_castle.jpg',\n",
       " 'https://upload.wikimedia.org/wikipedia/en/thumb/e/e7/Video-x-generic.svg/19px-Video-x-generic.svg.png',\n",
       " 'https://upload.wikimedia.org/wikipedia/commons/thumb/a/a3/Flag_of_Los_Angeles_County%2C_California.svg/21px-Flag_of_Los_Angeles_County%2C_California.svg.png',\n",
       " 'https://upload.wikimedia.org/wikipedia/commons/thumb/8/8c/Blank_television_set.svg/21px-Blank_television_set.svg.png',\n",
       " 'https://upload.wikimedia.org/wikipedia/en/thumb/a/a4/Flag_of_the_United_States.svg/21px-Flag_of_the_United_States.svg.png',\n",
       " 'https://upload.wikimedia.org/wikipedia/en/thumb/8/8a/OOjs_UI_icon_edit-ltr-progressive.svg/10px-OOjs_UI_icon_edit-ltr-progressive.svg.png',\n",
       " 'https://en.wikipedia.org/static/images/footer/wikimedia-button.png',\n",
       " 'https://en.wikipedia.org/static/images/footer/poweredby_mediawiki_88x31.png']"
      ]
     },
     "execution_count": 71,
     "metadata": {},
     "output_type": "execute_result"
    }
   ],
   "source": [
    "disney_imagenes= [e.get_attribute('src') for e in disney]\n",
    "disney_imagenes"
   ]
  },
  {
   "cell_type": "markdown",
   "metadata": {},
   "source": [
    "#### Retrieve an arbitary Wikipedia page of \"Python\" and create a list of links on that page"
   ]
  },
  {
   "cell_type": "code",
   "execution_count": 72,
   "metadata": {},
   "outputs": [],
   "source": [
    "# This is the url you will scrape in this exercise\n",
    "url4 ='https://en.wikipedia.org/wiki/Python'\n",
    "driver.get(url4)"
   ]
  },
  {
   "cell_type": "code",
   "execution_count": 78,
   "metadata": {
    "scrolled": true
   },
   "outputs": [
    {
     "data": {
      "text/plain": [
       "[<selenium.webdriver.remote.webelement.WebElement (session=\"f078cc37601bc911e649ec75a3d220e9\", element=\"9CEB68DD469300DBEA5E761B7192AAB4_element_5176\")>,\n",
       " <selenium.webdriver.remote.webelement.WebElement (session=\"f078cc37601bc911e649ec75a3d220e9\", element=\"9CEB68DD469300DBEA5E761B7192AAB4_element_5177\")>,\n",
       " <selenium.webdriver.remote.webelement.WebElement (session=\"f078cc37601bc911e649ec75a3d220e9\", element=\"9CEB68DD469300DBEA5E761B7192AAB4_element_5144\")>,\n",
       " <selenium.webdriver.remote.webelement.WebElement (session=\"f078cc37601bc911e649ec75a3d220e9\", element=\"9CEB68DD469300DBEA5E761B7192AAB4_element_5023\")>,\n",
       " <selenium.webdriver.remote.webelement.WebElement (session=\"f078cc37601bc911e649ec75a3d220e9\", element=\"9CEB68DD469300DBEA5E761B7192AAB4_element_5034\")>,\n",
       " <selenium.webdriver.remote.webelement.WebElement (session=\"f078cc37601bc911e649ec75a3d220e9\", element=\"9CEB68DD469300DBEA5E761B7192AAB4_element_5029\")>,\n",
       " <selenium.webdriver.remote.webelement.WebElement (session=\"f078cc37601bc911e649ec75a3d220e9\", element=\"9CEB68DD469300DBEA5E761B7192AAB4_element_5156\")>,\n",
       " <selenium.webdriver.remote.webelement.WebElement (session=\"f078cc37601bc911e649ec75a3d220e9\", element=\"9CEB68DD469300DBEA5E761B7192AAB4_element_5038\")>,\n",
       " <selenium.webdriver.remote.webelement.WebElement (session=\"f078cc37601bc911e649ec75a3d220e9\", element=\"9CEB68DD469300DBEA5E761B7192AAB4_element_5044\")>,\n",
       " <selenium.webdriver.remote.webelement.WebElement (session=\"f078cc37601bc911e649ec75a3d220e9\", element=\"9CEB68DD469300DBEA5E761B7192AAB4_element_5048\")>,\n",
       " <selenium.webdriver.remote.webelement.WebElement (session=\"f078cc37601bc911e649ec75a3d220e9\", element=\"9CEB68DD469300DBEA5E761B7192AAB4_element_5178\")>,\n",
       " <selenium.webdriver.remote.webelement.WebElement (session=\"f078cc37601bc911e649ec75a3d220e9\", element=\"9CEB68DD469300DBEA5E761B7192AAB4_element_5058\")>,\n",
       " <selenium.webdriver.remote.webelement.WebElement (session=\"f078cc37601bc911e649ec75a3d220e9\", element=\"9CEB68DD469300DBEA5E761B7192AAB4_element_5063\")>,\n",
       " <selenium.webdriver.remote.webelement.WebElement (session=\"f078cc37601bc911e649ec75a3d220e9\", element=\"9CEB68DD469300DBEA5E761B7192AAB4_element_5068\")>,\n",
       " <selenium.webdriver.remote.webelement.WebElement (session=\"f078cc37601bc911e649ec75a3d220e9\", element=\"9CEB68DD469300DBEA5E761B7192AAB4_element_5073\")>,\n",
       " <selenium.webdriver.remote.webelement.WebElement (session=\"f078cc37601bc911e649ec75a3d220e9\", element=\"9CEB68DD469300DBEA5E761B7192AAB4_element_5078\")>,\n",
       " <selenium.webdriver.remote.webelement.WebElement (session=\"f078cc37601bc911e649ec75a3d220e9\", element=\"9CEB68DD469300DBEA5E761B7192AAB4_element_5179\")>,\n",
       " <selenium.webdriver.remote.webelement.WebElement (session=\"f078cc37601bc911e649ec75a3d220e9\", element=\"9CEB68DD469300DBEA5E761B7192AAB4_element_5180\")>,\n",
       " <selenium.webdriver.remote.webelement.WebElement (session=\"f078cc37601bc911e649ec75a3d220e9\", element=\"9CEB68DD469300DBEA5E761B7192AAB4_element_5181\")>,\n",
       " <selenium.webdriver.remote.webelement.WebElement (session=\"f078cc37601bc911e649ec75a3d220e9\", element=\"9CEB68DD469300DBEA5E761B7192AAB4_element_5182\")>,\n",
       " <selenium.webdriver.remote.webelement.WebElement (session=\"f078cc37601bc911e649ec75a3d220e9\", element=\"9CEB68DD469300DBEA5E761B7192AAB4_element_5183\")>,\n",
       " <selenium.webdriver.remote.webelement.WebElement (session=\"f078cc37601bc911e649ec75a3d220e9\", element=\"9CEB68DD469300DBEA5E761B7192AAB4_element_5184\")>,\n",
       " <selenium.webdriver.remote.webelement.WebElement (session=\"f078cc37601bc911e649ec75a3d220e9\", element=\"9CEB68DD469300DBEA5E761B7192AAB4_element_5185\")>,\n",
       " <selenium.webdriver.remote.webelement.WebElement (session=\"f078cc37601bc911e649ec75a3d220e9\", element=\"9CEB68DD469300DBEA5E761B7192AAB4_element_5186\")>,\n",
       " <selenium.webdriver.remote.webelement.WebElement (session=\"f078cc37601bc911e649ec75a3d220e9\", element=\"9CEB68DD469300DBEA5E761B7192AAB4_element_5083\")>,\n",
       " <selenium.webdriver.remote.webelement.WebElement (session=\"f078cc37601bc911e649ec75a3d220e9\", element=\"9CEB68DD469300DBEA5E761B7192AAB4_element_5088\")>,\n",
       " <selenium.webdriver.remote.webelement.WebElement (session=\"f078cc37601bc911e649ec75a3d220e9\", element=\"9CEB68DD469300DBEA5E761B7192AAB4_element_5093\")>,\n",
       " <selenium.webdriver.remote.webelement.WebElement (session=\"f078cc37601bc911e649ec75a3d220e9\", element=\"9CEB68DD469300DBEA5E761B7192AAB4_element_5187\")>,\n",
       " <selenium.webdriver.remote.webelement.WebElement (session=\"f078cc37601bc911e649ec75a3d220e9\", element=\"9CEB68DD469300DBEA5E761B7192AAB4_element_5188\")>,\n",
       " <selenium.webdriver.remote.webelement.WebElement (session=\"f078cc37601bc911e649ec75a3d220e9\", element=\"9CEB68DD469300DBEA5E761B7192AAB4_element_5189\")>,\n",
       " <selenium.webdriver.remote.webelement.WebElement (session=\"f078cc37601bc911e649ec75a3d220e9\", element=\"9CEB68DD469300DBEA5E761B7192AAB4_element_5190\")>,\n",
       " <selenium.webdriver.remote.webelement.WebElement (session=\"f078cc37601bc911e649ec75a3d220e9\", element=\"9CEB68DD469300DBEA5E761B7192AAB4_element_5191\")>,\n",
       " <selenium.webdriver.remote.webelement.WebElement (session=\"f078cc37601bc911e649ec75a3d220e9\", element=\"9CEB68DD469300DBEA5E761B7192AAB4_element_5192\")>,\n",
       " <selenium.webdriver.remote.webelement.WebElement (session=\"f078cc37601bc911e649ec75a3d220e9\", element=\"9CEB68DD469300DBEA5E761B7192AAB4_element_5193\")>,\n",
       " <selenium.webdriver.remote.webelement.WebElement (session=\"f078cc37601bc911e649ec75a3d220e9\", element=\"9CEB68DD469300DBEA5E761B7192AAB4_element_5194\")>,\n",
       " <selenium.webdriver.remote.webelement.WebElement (session=\"f078cc37601bc911e649ec75a3d220e9\", element=\"9CEB68DD469300DBEA5E761B7192AAB4_element_5195\")>,\n",
       " <selenium.webdriver.remote.webelement.WebElement (session=\"f078cc37601bc911e649ec75a3d220e9\", element=\"9CEB68DD469300DBEA5E761B7192AAB4_element_5196\")>,\n",
       " <selenium.webdriver.remote.webelement.WebElement (session=\"f078cc37601bc911e649ec75a3d220e9\", element=\"9CEB68DD469300DBEA5E761B7192AAB4_element_5197\")>,\n",
       " <selenium.webdriver.remote.webelement.WebElement (session=\"f078cc37601bc911e649ec75a3d220e9\", element=\"9CEB68DD469300DBEA5E761B7192AAB4_element_5198\")>]"
      ]
     },
     "execution_count": 78,
     "metadata": {},
     "output_type": "execute_result"
    }
   ],
   "source": [
    "wiki= driver.find_element(By.CSS_SELECTOR,'#mw-content-text > div.mw-parser-output').find_elements(By.TAG_NAME, 'a')\n",
    "wiki"
   ]
  },
  {
   "cell_type": "code",
   "execution_count": 81,
   "metadata": {},
   "outputs": [
    {
     "data": {
      "text/plain": [
       "['https://en.wiktionary.org/wiki/Python',\n",
       " 'https://en.wiktionary.org/wiki/python',\n",
       " 'https://en.wikipedia.org/w/index.php?title=Python&action=edit&section=1&editintro=Template:Disambig_editintro',\n",
       " 'https://en.wikipedia.org/wiki/Pythonidae',\n",
       " 'https://en.wikipedia.org/wiki/Python_(genus)',\n",
       " 'https://en.wikipedia.org/wiki/Python_(mythology)',\n",
       " 'https://en.wikipedia.org/w/index.php?title=Python&action=edit&section=2&editintro=Template:Disambig_editintro',\n",
       " 'https://en.wikipedia.org/wiki/Python_(programming_language)',\n",
       " 'https://en.wikipedia.org/wiki/CMU_Common_Lisp',\n",
       " 'https://en.wikipedia.org/wiki/PERQ#PERQ_3',\n",
       " 'https://en.wikipedia.org/w/index.php?title=Python&action=edit&section=3&editintro=Template:Disambig_editintro',\n",
       " 'https://en.wikipedia.org/wiki/Python_of_Aenus',\n",
       " 'https://en.wikipedia.org/wiki/Python_(painter)',\n",
       " 'https://en.wikipedia.org/wiki/Python_of_Byzantium',\n",
       " 'https://en.wikipedia.org/wiki/Python_of_Catana',\n",
       " 'https://en.wikipedia.org/wiki/Python_Anghelo',\n",
       " 'https://en.wikipedia.org/w/index.php?title=Python&action=edit&section=4&editintro=Template:Disambig_editintro',\n",
       " 'https://en.wikipedia.org/wiki/Python_(Efteling)',\n",
       " 'https://en.wikipedia.org/wiki/Python_(Busch_Gardens_Tampa_Bay)',\n",
       " 'https://en.wikipedia.org/wiki/Python_(Coney_Island,_Cincinnati,_Ohio)',\n",
       " 'https://en.wikipedia.org/w/index.php?title=Python&action=edit&section=5&editintro=Template:Disambig_editintro',\n",
       " 'https://en.wikipedia.org/wiki/Python_(automobile_maker)',\n",
       " 'https://en.wikipedia.org/wiki/Python_(Ford_prototype)',\n",
       " 'https://en.wikipedia.org/w/index.php?title=Python&action=edit&section=6&editintro=Template:Disambig_editintro',\n",
       " 'https://en.wikipedia.org/wiki/Python_(missile)',\n",
       " 'https://en.wikipedia.org/wiki/Python_(nuclear_primary)',\n",
       " 'https://en.wikipedia.org/wiki/Colt_Python',\n",
       " 'https://en.wikipedia.org/w/index.php?title=Python&action=edit&section=7&editintro=Template:Disambig_editintro',\n",
       " 'https://en.wikipedia.org/wiki/Python_(codename)',\n",
       " 'https://en.wikipedia.org/wiki/Python_(film)',\n",
       " 'https://en.wikipedia.org/wiki/Monty_Python',\n",
       " 'https://en.wikipedia.org/wiki/Python_(Monty)_Pictures',\n",
       " 'https://en.wikipedia.org/wiki/Timon_of_Phlius',\n",
       " 'https://en.wikipedia.org/w/index.php?title=Python&action=edit&section=8&editintro=Template:Disambig_editintro',\n",
       " 'https://en.wikipedia.org/wiki/Pyton',\n",
       " 'https://en.wikipedia.org/wiki/Pithon',\n",
       " 'https://en.wikipedia.org/wiki/File:Disambig_gray.svg',\n",
       " 'https://en.wikipedia.org/wiki/Help:Disambiguation',\n",
       " 'https://en.wikipedia.org/w/index.php?title=Special:WhatLinksHere/Python&namespace=0']"
      ]
     },
     "execution_count": 81,
     "metadata": {},
     "output_type": "execute_result"
    }
   ],
   "source": [
    "wiki_links= [e.get_attribute('href') for e in wiki]\n",
    "wiki_links"
   ]
  },
  {
   "cell_type": "markdown",
   "metadata": {},
   "source": [
    "#### Number of Titles that have changed in the United States Code since its last release point "
   ]
  },
  {
   "cell_type": "code",
   "execution_count": 82,
   "metadata": {},
   "outputs": [],
   "source": [
    "# This is the url you will scrape in this exercise\n",
    "url5 = 'http://uscode.house.gov/download/download.shtml'\n",
    "driver.get(url5)"
   ]
  },
  {
   "cell_type": "code",
   "execution_count": 91,
   "metadata": {},
   "outputs": [
    {
     "data": {
      "text/plain": [
       "[]"
      ]
     },
     "execution_count": 91,
     "metadata": {},
     "output_type": "execute_result"
    }
   ],
   "source": [
    "titles_=driver.find_elements(By.CSS_SELECTOR, \"content > div > div > div.uscitemlist > div:nth-child(26)\")\n",
    "titles_"
   ]
  },
  {
   "cell_type": "code",
   "execution_count": 92,
   "metadata": {},
   "outputs": [
    {
     "ename": "InvalidSelectorException",
     "evalue": "Message: invalid selector: An invalid or illegal selector was specified\n  (Session info: chrome=119.0.6045.106); For documentation on this error, please visit: https://www.selenium.dev/documentation/webdriver/troubleshooting/errors#invalid-selector-exception\nStacktrace:\n\tGetHandleVerifier [0x00007FF6818782B2+55298]\n\t(No symbol) [0x00007FF6817E5E02]\n\t(No symbol) [0x00007FF6816A05AB]\n\t(No symbol) [0x00007FF6816A509C]\n\t(No symbol) [0x00007FF6816A6FDF]\n\t(No symbol) [0x00007FF6816A70D0]\n\t(No symbol) [0x00007FF6816E13E4]\n\t(No symbol) [0x00007FF6816E18DC]\n\t(No symbol) [0x00007FF6816D84EC]\n\t(No symbol) [0x00007FF6817020EF]\n\t(No symbol) [0x00007FF6816D80CF]\n\t(No symbol) [0x00007FF6817022C0]\n\t(No symbol) [0x00007FF68171AAA4]\n\t(No symbol) [0x00007FF681701E83]\n\t(No symbol) [0x00007FF6816D670A]\n\t(No symbol) [0x00007FF6816D7964]\n\tGetHandleVerifier [0x00007FF681BF0AAB+3694587]\n\tGetHandleVerifier [0x00007FF681C4728E+4048862]\n\tGetHandleVerifier [0x00007FF681C3F173+4015811]\n\tGetHandleVerifier [0x00007FF6819147D6+695590]\n\t(No symbol) [0x00007FF6817F0CE8]\n\t(No symbol) [0x00007FF6817ECF34]\n\t(No symbol) [0x00007FF6817ED062]\n\t(No symbol) [0x00007FF6817DD3A3]\n\tBaseThreadInitThunk [0x00007FFB4F42257D+29]\n\tRtlUserThreadStart [0x00007FFB505EAA78+40]\n",
     "output_type": "error",
     "traceback": [
      "\u001b[1;31m---------------------------------------------------------------------------\u001b[0m",
      "\u001b[1;31mInvalidSelectorException\u001b[0m                  Traceback (most recent call last)",
      "Cell \u001b[1;32mIn[92], line 1\u001b[0m\n\u001b[1;32m----> 1\u001b[0m titles\u001b[38;5;241m=\u001b[39m driver\u001b[38;5;241m.\u001b[39mfind_element(By\u001b[38;5;241m.\u001b[39mCSS_SELECTOR,\u001b[38;5;124m'\u001b[39m\u001b[38;5;124m#content > div > div > div.uscitemlist\u001b[39m\u001b[38;5;124m'\u001b[39m)\u001b[38;5;241m.\u001b[39mfind_elements(By\u001b[38;5;241m.\u001b[39mCLASS_NAME ,\u001b[38;5;124m'\u001b[39m\u001b[38;5;124m#us\u001b[39m\u001b[38;5;124m\\\u001b[39m\u001b[38;5;124m/usc\u001b[39m\u001b[38;5;124m\\\u001b[39m\u001b[38;5;124m/t20\u001b[39m\u001b[38;5;124m'\u001b[39m)\n\u001b[0;32m      2\u001b[0m titles\n",
      "File \u001b[1;32m~\\anaconda3\\Lib\\site-packages\\selenium\\webdriver\\remote\\webelement.py:438\u001b[0m, in \u001b[0;36mWebElement.find_elements\u001b[1;34m(self, by, value)\u001b[0m\n\u001b[0;32m    435\u001b[0m     by \u001b[38;5;241m=\u001b[39m By\u001b[38;5;241m.\u001b[39mCSS_SELECTOR\n\u001b[0;32m    436\u001b[0m     value \u001b[38;5;241m=\u001b[39m \u001b[38;5;124mf\u001b[39m\u001b[38;5;124m'\u001b[39m\u001b[38;5;124m[name=\u001b[39m\u001b[38;5;124m\"\u001b[39m\u001b[38;5;132;01m{\u001b[39;00mvalue\u001b[38;5;132;01m}\u001b[39;00m\u001b[38;5;124m\"\u001b[39m\u001b[38;5;124m]\u001b[39m\u001b[38;5;124m'\u001b[39m\n\u001b[1;32m--> 438\u001b[0m \u001b[38;5;28;01mreturn\u001b[39;00m \u001b[38;5;28mself\u001b[39m\u001b[38;5;241m.\u001b[39m_execute(Command\u001b[38;5;241m.\u001b[39mFIND_CHILD_ELEMENTS, {\u001b[38;5;124m\"\u001b[39m\u001b[38;5;124musing\u001b[39m\u001b[38;5;124m\"\u001b[39m: by, \u001b[38;5;124m\"\u001b[39m\u001b[38;5;124mvalue\u001b[39m\u001b[38;5;124m\"\u001b[39m: value})[\u001b[38;5;124m\"\u001b[39m\u001b[38;5;124mvalue\u001b[39m\u001b[38;5;124m\"\u001b[39m]\n",
      "File \u001b[1;32m~\\anaconda3\\Lib\\site-packages\\selenium\\webdriver\\remote\\webelement.py:394\u001b[0m, in \u001b[0;36mWebElement._execute\u001b[1;34m(self, command, params)\u001b[0m\n\u001b[0;32m    392\u001b[0m     params \u001b[38;5;241m=\u001b[39m {}\n\u001b[0;32m    393\u001b[0m params[\u001b[38;5;124m\"\u001b[39m\u001b[38;5;124mid\u001b[39m\u001b[38;5;124m\"\u001b[39m] \u001b[38;5;241m=\u001b[39m \u001b[38;5;28mself\u001b[39m\u001b[38;5;241m.\u001b[39m_id\n\u001b[1;32m--> 394\u001b[0m \u001b[38;5;28;01mreturn\u001b[39;00m \u001b[38;5;28mself\u001b[39m\u001b[38;5;241m.\u001b[39m_parent\u001b[38;5;241m.\u001b[39mexecute(command, params)\n",
      "File \u001b[1;32m~\\anaconda3\\Lib\\site-packages\\selenium\\webdriver\\remote\\webdriver.py:344\u001b[0m, in \u001b[0;36mWebDriver.execute\u001b[1;34m(self, driver_command, params)\u001b[0m\n\u001b[0;32m    342\u001b[0m response \u001b[38;5;241m=\u001b[39m \u001b[38;5;28mself\u001b[39m\u001b[38;5;241m.\u001b[39mcommand_executor\u001b[38;5;241m.\u001b[39mexecute(driver_command, params)\n\u001b[0;32m    343\u001b[0m \u001b[38;5;28;01mif\u001b[39;00m response:\n\u001b[1;32m--> 344\u001b[0m     \u001b[38;5;28mself\u001b[39m\u001b[38;5;241m.\u001b[39merror_handler\u001b[38;5;241m.\u001b[39mcheck_response(response)\n\u001b[0;32m    345\u001b[0m     response[\u001b[38;5;124m\"\u001b[39m\u001b[38;5;124mvalue\u001b[39m\u001b[38;5;124m\"\u001b[39m] \u001b[38;5;241m=\u001b[39m \u001b[38;5;28mself\u001b[39m\u001b[38;5;241m.\u001b[39m_unwrap_value(response\u001b[38;5;241m.\u001b[39mget(\u001b[38;5;124m\"\u001b[39m\u001b[38;5;124mvalue\u001b[39m\u001b[38;5;124m\"\u001b[39m, \u001b[38;5;28;01mNone\u001b[39;00m))\n\u001b[0;32m    346\u001b[0m     \u001b[38;5;28;01mreturn\u001b[39;00m response\n",
      "File \u001b[1;32m~\\anaconda3\\Lib\\site-packages\\selenium\\webdriver\\remote\\errorhandler.py:229\u001b[0m, in \u001b[0;36mErrorHandler.check_response\u001b[1;34m(self, response)\u001b[0m\n\u001b[0;32m    227\u001b[0m         alert_text \u001b[38;5;241m=\u001b[39m value[\u001b[38;5;124m\"\u001b[39m\u001b[38;5;124malert\u001b[39m\u001b[38;5;124m\"\u001b[39m]\u001b[38;5;241m.\u001b[39mget(\u001b[38;5;124m\"\u001b[39m\u001b[38;5;124mtext\u001b[39m\u001b[38;5;124m\"\u001b[39m)\n\u001b[0;32m    228\u001b[0m     \u001b[38;5;28;01mraise\u001b[39;00m exception_class(message, screen, stacktrace, alert_text)  \u001b[38;5;66;03m# type: ignore[call-arg]  # mypy is not smart enough here\u001b[39;00m\n\u001b[1;32m--> 229\u001b[0m \u001b[38;5;28;01mraise\u001b[39;00m exception_class(message, screen, stacktrace)\n",
      "\u001b[1;31mInvalidSelectorException\u001b[0m: Message: invalid selector: An invalid or illegal selector was specified\n  (Session info: chrome=119.0.6045.106); For documentation on this error, please visit: https://www.selenium.dev/documentation/webdriver/troubleshooting/errors#invalid-selector-exception\nStacktrace:\n\tGetHandleVerifier [0x00007FF6818782B2+55298]\n\t(No symbol) [0x00007FF6817E5E02]\n\t(No symbol) [0x00007FF6816A05AB]\n\t(No symbol) [0x00007FF6816A509C]\n\t(No symbol) [0x00007FF6816A6FDF]\n\t(No symbol) [0x00007FF6816A70D0]\n\t(No symbol) [0x00007FF6816E13E4]\n\t(No symbol) [0x00007FF6816E18DC]\n\t(No symbol) [0x00007FF6816D84EC]\n\t(No symbol) [0x00007FF6817020EF]\n\t(No symbol) [0x00007FF6816D80CF]\n\t(No symbol) [0x00007FF6817022C0]\n\t(No symbol) [0x00007FF68171AAA4]\n\t(No symbol) [0x00007FF681701E83]\n\t(No symbol) [0x00007FF6816D670A]\n\t(No symbol) [0x00007FF6816D7964]\n\tGetHandleVerifier [0x00007FF681BF0AAB+3694587]\n\tGetHandleVerifier [0x00007FF681C4728E+4048862]\n\tGetHandleVerifier [0x00007FF681C3F173+4015811]\n\tGetHandleVerifier [0x00007FF6819147D6+695590]\n\t(No symbol) [0x00007FF6817F0CE8]\n\t(No symbol) [0x00007FF6817ECF34]\n\t(No symbol) [0x00007FF6817ED062]\n\t(No symbol) [0x00007FF6817DD3A3]\n\tBaseThreadInitThunk [0x00007FFB4F42257D+29]\n\tRtlUserThreadStart [0x00007FFB505EAA78+40]\n"
     ]
    }
   ],
   "source": [
    "titles= driver.find_element(By.CSS_SELECTOR,'#content > div > div > div.uscitemlist').find_elements(By.TAG_NAME)\n",
    "titles"
   ]
  },
  {
   "cell_type": "code",
   "execution_count": 87,
   "metadata": {},
   "outputs": [
    {
     "data": {
      "text/plain": [
       "2"
      ]
     },
     "execution_count": 87,
     "metadata": {},
     "output_type": "execute_result"
    }
   ],
   "source": [
    "titles1= driver.find_elements(By.XPATH, '//div[@class=\"usctitlechanged\"]')\n",
    "len(titles1)"
   ]
  },
  {
   "cell_type": "code",
   "execution_count": null,
   "metadata": {},
   "outputs": [],
   "source": [
    "lista_titles=[]\n",
    "for e in titles1:\n",
    "    lista_titles.append(e)\n",
    "lista_titles"
   ]
  },
  {
   "cell_type": "code",
   "execution_count": null,
   "metadata": {},
   "outputs": [],
   "source": []
  },
  {
   "cell_type": "code",
   "execution_count": null,
   "metadata": {},
   "outputs": [],
   "source": [
    "url = driver.find_element(By.CSS_SELECTOR, '#query-results-0f737222c5054a81a120bce207b0446a').find_elements(By.TAG_NAME, 'a')\n",
    "len(url)\n",
    "20:40\n",
    "for f in url:\n",
    "    print (f.text)"
   ]
  },
  {
   "cell_type": "markdown",
   "metadata": {},
   "source": [
    "#### A Python list with the top ten FBI's Most Wanted names "
   ]
  },
  {
   "cell_type": "code",
   "execution_count": null,
   "metadata": {},
   "outputs": [],
   "source": [
    "# This is the url you will scrape in this exercise\n",
    "url = 'https://www.fbi.gov/wanted/topten'"
   ]
  },
  {
   "cell_type": "code",
   "execution_count": null,
   "metadata": {},
   "outputs": [],
   "source": [
    "#your code "
   ]
  },
  {
   "cell_type": "markdown",
   "metadata": {},
   "source": [
    "####  20 latest earthquakes info (date, time, latitude, longitude and region name) by the EMSC as a pandas dataframe"
   ]
  },
  {
   "cell_type": "code",
   "execution_count": null,
   "metadata": {},
   "outputs": [],
   "source": [
    "# This is the url you will scrape in this exercise\n",
    "url = 'https://www.emsc-csem.org/Earthquake/'"
   ]
  },
  {
   "cell_type": "code",
   "execution_count": null,
   "metadata": {},
   "outputs": [],
   "source": [
    "#your code"
   ]
  },
  {
   "cell_type": "markdown",
   "metadata": {},
   "source": [
    "#### Count number of tweets by a given Twitter account."
   ]
  },
  {
   "cell_type": "markdown",
   "metadata": {},
   "source": [
    "You will need to include a ***try/except block*** for account names not found. \n",
    "<br>***Hint:*** the program should count the number of tweets for any provided account"
   ]
  },
  {
   "cell_type": "code",
   "execution_count": null,
   "metadata": {},
   "outputs": [],
   "source": [
    "# This is the url you will scrape in this exercise \n",
    "# You will need to add the account credentials to this url\n",
    "url = 'https://twitter.com/'"
   ]
  },
  {
   "cell_type": "code",
   "execution_count": null,
   "metadata": {},
   "outputs": [],
   "source": [
    "#your code"
   ]
  },
  {
   "cell_type": "markdown",
   "metadata": {},
   "source": [
    "#### Number of followers of a given twitter account"
   ]
  },
  {
   "cell_type": "markdown",
   "metadata": {},
   "source": [
    "You will need to include a ***try/except block*** in case account/s name not found. \n",
    "<br>***Hint:*** the program should count the followers for any provided account"
   ]
  },
  {
   "cell_type": "code",
   "execution_count": null,
   "metadata": {},
   "outputs": [],
   "source": [
    "# This is the url you will scrape in this exercise \n",
    "# You will need to add the account credentials to this url\n",
    "url = 'https://twitter.com/'"
   ]
  },
  {
   "cell_type": "code",
   "execution_count": null,
   "metadata": {},
   "outputs": [],
   "source": [
    "#your code"
   ]
  },
  {
   "cell_type": "markdown",
   "metadata": {},
   "source": [
    "#### List all language names and number of related articles in the order they appear in wikipedia.org"
   ]
  },
  {
   "cell_type": "code",
   "execution_count": null,
   "metadata": {},
   "outputs": [],
   "source": [
    "# This is the url you will scrape in this exercise\n",
    "url = 'https://www.wikipedia.org/'"
   ]
  },
  {
   "cell_type": "code",
   "execution_count": null,
   "metadata": {},
   "outputs": [],
   "source": [
    "#your code"
   ]
  },
  {
   "cell_type": "markdown",
   "metadata": {},
   "source": [
    "#### A list with the different kind of datasets available in data.gov.uk "
   ]
  },
  {
   "cell_type": "code",
   "execution_count": null,
   "metadata": {},
   "outputs": [],
   "source": [
    "# This is the url you will scrape in this exercise\n",
    "url = 'https://data.gov.uk/'"
   ]
  },
  {
   "cell_type": "code",
   "execution_count": null,
   "metadata": {},
   "outputs": [],
   "source": [
    "#your code "
   ]
  },
  {
   "cell_type": "markdown",
   "metadata": {},
   "source": [
    "#### Top 10 languages by number of native speakers stored in a Pandas Dataframe"
   ]
  },
  {
   "cell_type": "code",
   "execution_count": null,
   "metadata": {},
   "outputs": [],
   "source": [
    "# This is the url you will scrape in this exercise\n",
    "url = 'https://en.wikipedia.org/wiki/List_of_languages_by_number_of_native_speakers'"
   ]
  },
  {
   "cell_type": "code",
   "execution_count": null,
   "metadata": {},
   "outputs": [],
   "source": [
    "#your code"
   ]
  },
  {
   "cell_type": "markdown",
   "metadata": {},
   "source": [
    "### BONUS QUESTIONS"
   ]
  },
  {
   "cell_type": "markdown",
   "metadata": {},
   "source": [
    "#### Scrape a certain number of tweets of a given Twitter account."
   ]
  },
  {
   "cell_type": "code",
   "execution_count": null,
   "metadata": {},
   "outputs": [],
   "source": [
    "# This is the url you will scrape in this exercise \n",
    "# You will need to add the account credentials to this url\n",
    "url = 'https://twitter.com/'"
   ]
  },
  {
   "cell_type": "code",
   "execution_count": null,
   "metadata": {},
   "outputs": [],
   "source": [
    "# your code"
   ]
  },
  {
   "cell_type": "markdown",
   "metadata": {},
   "source": [
    "#### IMDB's Top 250 data (movie name, Initial release, director name and stars) as a pandas dataframe"
   ]
  },
  {
   "cell_type": "code",
   "execution_count": null,
   "metadata": {},
   "outputs": [],
   "source": [
    "# This is the url you will scrape in this exercise \n",
    "url = 'https://www.imdb.com/chart/top'"
   ]
  },
  {
   "cell_type": "code",
   "execution_count": null,
   "metadata": {},
   "outputs": [],
   "source": [
    "# your code"
   ]
  },
  {
   "cell_type": "markdown",
   "metadata": {},
   "source": [
    "#### Movie name, year and a brief summary of the top 10 random movies (IMDB) as a pandas dataframe."
   ]
  },
  {
   "cell_type": "code",
   "execution_count": null,
   "metadata": {},
   "outputs": [],
   "source": [
    "#This is the url you will scrape in this exercise\n",
    "url = 'http://www.imdb.com/chart/top'"
   ]
  },
  {
   "cell_type": "code",
   "execution_count": null,
   "metadata": {},
   "outputs": [],
   "source": [
    "#your code"
   ]
  },
  {
   "cell_type": "markdown",
   "metadata": {},
   "source": [
    "#### Find the live weather report (temperature, wind speed, description and weather) of a given city."
   ]
  },
  {
   "cell_type": "code",
   "execution_count": null,
   "metadata": {},
   "outputs": [],
   "source": [
    "#https://openweathermap.org/current\n",
    "city = city=input('Enter the city:')\n",
    "url = 'http://api.openweathermap.org/data/2.5/weather?'+'q='+city+'&APPID=b35975e18dc93725acb092f7272cc6b8&units=metric'"
   ]
  },
  {
   "cell_type": "code",
   "execution_count": null,
   "metadata": {},
   "outputs": [],
   "source": [
    "# your code"
   ]
  },
  {
   "cell_type": "markdown",
   "metadata": {},
   "source": [
    "#### Book name,price and stock availability as a pandas dataframe."
   ]
  },
  {
   "cell_type": "code",
   "execution_count": null,
   "metadata": {},
   "outputs": [],
   "source": [
    "# This is the url you will scrape in this exercise. \n",
    "# It is a fictional bookstore created to be scraped. \n",
    "url = 'http://books.toscrape.com/'"
   ]
  },
  {
   "cell_type": "code",
   "execution_count": null,
   "metadata": {},
   "outputs": [],
   "source": [
    "#your code"
   ]
  }
 ],
 "metadata": {
  "kernelspec": {
   "display_name": "Python 3 (ipykernel)",
   "language": "python",
   "name": "python3"
  },
  "language_info": {
   "codemirror_mode": {
    "name": "ipython",
    "version": 3
   },
   "file_extension": ".py",
   "mimetype": "text/x-python",
   "name": "python",
   "nbconvert_exporter": "python",
   "pygments_lexer": "ipython3",
   "version": "3.11.4"
  }
 },
 "nbformat": 4,
 "nbformat_minor": 2
}
